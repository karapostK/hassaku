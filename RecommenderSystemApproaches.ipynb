{
 "cells": [
  {
   "cell_type": "markdown",
   "id": "f080e201-babd-4589-bdba-ef8366f6f767",
   "metadata": {},
   "source": [
    "# Recommender System Approaches\n",
    "This notebooks was written for the purpose of experimenting with different algorithms in recommender systems. \n",
    "\n",
    "We reserve the following assumptions for all the algorithms:\n",
    "- Implicit feedback with binary data. We only know if a user interacted with an item (1), or not (0).\n",
    "- Data is split using the user-based, time-ordered (can also be random), leave-one-out strategy. This means that for each users we sort their interactions and split into train/val/test in the following way. The last interaction is the test data. The one before is the validation data. The rest is the training data.\n",
    "- Evaluate on NDCG and Hit Ratio (at 1,3,5,10)"
   ]
  },
  {
   "cell_type": "code",
   "execution_count": 1,
   "id": "061fee2e-5da6-425a-b199-9e7fac73b962",
   "metadata": {},
   "outputs": [],
   "source": [
    "from data.dataset import get_recdataset_dataloader\n",
    "from utilities.eval import evaluate_recommender_algorithm\n",
    "#from utilities.utils import reproducible, print_results\n",
    "#from utilities.eval import Evaluator\n",
    "\n",
    "import sys\n",
    "sys.path.append('./')\n",
    "sys.path.append('./algorithms')\n",
    "\n",
    "#from scipy import sparse as sp\n",
    "#from scipy.sparse import linalg as sp_lin\n",
    "#import scipy as sc\n",
    "#import numpy as np\n",
    "#import bottleneck as bn\n",
    "#from functools import partial\n",
    "\n",
    "#from tqdm.notebook import tqdm,trange\n",
    "\n",
    "#from torch import nn \n",
    "#from utilities.utils import general_weight_init\n"
   ]
  },
  {
   "cell_type": "code",
   "execution_count": 2,
   "id": "0bb8181d-979f-4ea1-9baa-ce84123f4342",
   "metadata": {},
   "outputs": [
    {
     "name": "stdout",
     "output_type": "stream",
     "text": [
      "Loading data\n",
      "Built RecDataset module \n",
      "- data_path: ./data/lfm2b-1m \n",
      "- n_users: 3555 \n",
      "- n_items: 77985 \n",
      "- n_interactions: 870255 \n",
      "- split_set: train \n",
      "- n_neg: 10 \n",
      "- neg_strategy: uniform \n",
      "\n",
      "Loading data\n",
      "Built RecDataset module \n",
      "- data_path: ./data/lfm2b-1m \n",
      "- n_users: 3555 \n",
      "- n_items: 77985 \n",
      "- n_interactions: 3555 \n",
      "- split_set: val \n",
      "- n_neg: 99 \n",
      "- neg_strategy: uniform \n",
      "\n",
      "Loading data\n",
      "Built RecDataset module \n",
      "- data_path: ./data/lfm2b-1m \n",
      "- n_users: 3555 \n",
      "- n_items: 77985 \n",
      "- n_interactions: 3555 \n",
      "- split_set: test \n",
      "- n_neg: 99 \n",
      "- neg_strategy: uniform \n",
      "\n"
     ]
    }
   ],
   "source": [
    "train_loader = get_recdataset_dataloader(\n",
    "                    data_path='./data/lfm2b-1m',\n",
    "                    split_set='train',\n",
    "                    n_neg=10,\n",
    "                    neg_strategy='uniform',\n",
    "                    batch_size=64,\n",
    "                    shuffle=True,\n",
    "                    num_workers=8,\n",
    ")\n",
    "val_loader = get_recdataset_dataloader(\n",
    "                    data_path='./data/lfm2b-1m',\n",
    "                    split_set='val',\n",
    "                    n_neg=99,\n",
    "                    neg_strategy='uniform',\n",
    "                    batch_size=64,\n",
    "                    num_workers=8,\n",
    ")\n",
    "\n",
    "test_loader = get_recdataset_dataloader(\n",
    "                    data_path='./data/lfm2b-1m',\n",
    "                    split_set='test',\n",
    "                    n_neg=99,\n",
    "                    neg_strategy='uniform',\n",
    "                    batch_size=64,\n",
    "                    num_workers=8,\n",
    ")"
   ]
  },
  {
   "cell_type": "markdown",
   "id": "ebf3c3dd-00bb-4215-807e-7639d28b3366",
   "metadata": {},
   "source": [
    "# Random Algorithm\n",
    "For each user, recommend items sampled u.a.r "
   ]
  },
  {
   "cell_type": "code",
   "execution_count": 3,
   "id": "efd03dfc-f85f-4adf-98cf-e40c0d6ac23a",
   "metadata": {},
   "outputs": [
    {
     "name": "stdout",
     "output_type": "stream",
     "text": [
      "Built RecommenderAlgorithm module\n",
      "Built RandomItems module\n",
      "ndcg@1     : 0.009\n",
      "hit_ratio@1 : 0.009\n",
      "ndcg@3     : 0.022\n",
      "hit_ratio@3 : 0.031\n",
      "ndcg@5     : 0.029\n",
      "hit_ratio@5 : 0.048\n",
      "ndcg@10    : 0.046\n",
      "hit_ratio@10 : 0.101\n",
      "ndcg@50    : 0.131\n",
      "hit_ratio@50 : 0.511\n"
     ]
    }
   ],
   "source": [
    "from algorithms.naive_algs import RandomItems\n",
    "\n",
    "rand_alg = RandomItems()\n",
    "\n",
    "evaluate_recommender_algorithm(rand_alg,test_loader)\n",
    "\n",
    "del rand_alg"
   ]
  },
  {
   "cell_type": "markdown",
   "id": "28a2c8bc-4a96-4960-8857-fe6c83e9c862",
   "metadata": {},
   "source": [
    "# Popular Items\n",
    "For each item, assign a score that depends on the popularity of the item"
   ]
  },
  {
   "cell_type": "code",
   "execution_count": 4,
   "id": "ea733399-5c8b-4194-aece-c0fac74aeb7c",
   "metadata": {},
   "outputs": [
    {
     "name": "stdout",
     "output_type": "stream",
     "text": [
      "Built RecommenderAlgorithm module\n",
      "Built PopularItems module\n",
      "ndcg@1     : 0.044\n",
      "hit_ratio@1 : 0.044\n",
      "ndcg@3     : 0.083\n",
      "hit_ratio@3 : 0.111\n",
      "ndcg@5     : 0.101\n",
      "hit_ratio@5 : 0.156\n",
      "ndcg@10    : 0.132\n",
      "hit_ratio@10 : 0.251\n",
      "ndcg@50    : 0.205\n",
      "hit_ratio@50 : 0.586\n"
     ]
    }
   ],
   "source": [
    "from algorithms.naive_algs import PopularItems\n",
    "\n",
    "pop_alg = PopularItems(test_loader.dataset.pop_distribution)\n",
    "\n",
    "evaluate_recommender_algorithm(pop_alg,test_loader)\n",
    "\n",
    "del pop_alg"
   ]
  },
  {
   "cell_type": "markdown",
   "id": "ee3263ab-b207-4940-8f1f-d8c8e1755b11",
   "metadata": {},
   "source": [
    "# SVD (constrainted matrix factorization)"
   ]
  },
  {
   "cell_type": "code",
   "execution_count": 5,
   "id": "4785d93d-903d-46c1-94b4-5719dd92a1a4",
   "metadata": {},
   "outputs": [
    {
     "name": "stdout",
     "output_type": "stream",
     "text": [
      "Built RecommenderAlgorithm module\n",
      "Built SVDAlgorithm module \n",
      "- factors: 100 \n",
      "Starting Fitting\n",
      "End Fitting\n",
      "ndcg@1     : 0.189\n",
      "hit_ratio@1 : 0.189\n",
      "ndcg@3     : 0.277\n",
      "hit_ratio@3 : 0.340\n",
      "ndcg@5     : 0.308\n",
      "hit_ratio@5 : 0.417\n",
      "ndcg@10    : 0.351\n",
      "hit_ratio@10 : 0.551\n",
      "ndcg@50    : 0.422\n",
      "hit_ratio@50 : 0.869\n"
     ]
    }
   ],
   "source": [
    "from algorithms.mf_algs import SVDAlgorithm\n",
    "\n",
    "svd_alg = SVDAlgorithm(factors=100)\n",
    "svd_alg.fit(train_loader.dataset.csr_matrix)\n",
    "\n",
    "evaluate_recommender_algorithm(svd_alg,test_loader)\n",
    "\n",
    "del svd_alg"
   ]
  },
  {
   "cell_type": "markdown",
   "id": "24727d28-48eb-4978-9547-1284ad5985d5",
   "metadata": {},
   "source": [
    "# User-based KNN (Collaborative Filtering)\n",
    "There are numerous extensions of KNN. Here we just consider variation in terms of the similarity functions used.\n",
    "In the end, we generate a n_user x n_user similarity matrix. The prediction for an item i and and user u is given by the weighted average of the similarities of user u and its top-k neighbours. "
   ]
  },
  {
   "cell_type": "code",
   "execution_count": 6,
   "id": "58c29846-d288-48a7-8c7b-6dbfcf6f033b",
   "metadata": {},
   "outputs": [],
   "source": [
    "from algorithms.knn_algs import UserKNN\n",
    "from utilities.similarities import SimilarityFunction"
   ]
  },
  {
   "cell_type": "markdown",
   "id": "ba7491bf-190a-410d-b00f-31992f203778",
   "metadata": {},
   "source": [
    "#### Jaccard Similarity\n",
    "Defined a $\\frac{|I_x \\cap I_y|}{|I_x \\cup I_y|}$ where $I_x$ and $I_y$ are the set of items interacted by user x and y respectively. \n",
    "\n",
    "**Attempt to a intuitive explanation/reading the formula**:\n",
    "Two users are considered similar if they have a high number of items that both have consumed. This quantity is normalized by their 'total' items consumed. The last part allows to compare users with different number of items consumed. "
   ]
  },
  {
   "cell_type": "code",
   "execution_count": 7,
   "id": "d56c2dd6-4f88-4031-bae9-3e12fa30e5fd",
   "metadata": {},
   "outputs": [
    {
     "name": "stdout",
     "output_type": "stream",
     "text": [
      "Built RecommenderAlgorithm module\n",
      "Built KNNAlgorithm module \n",
      "- sim_func: <function compute_jaccard_sim_mtx at 0x7fc988d91ee0> \n",
      "- k: 100 \n",
      "\n",
      "Built UserKNN module \n",
      "\n",
      "Starting Fitting\n",
      "End Fitting\n",
      "ndcg@1     : 0.225\n",
      "hit_ratio@1 : 0.225\n",
      "ndcg@3     : 0.310\n",
      "hit_ratio@3 : 0.372\n",
      "ndcg@5     : 0.344\n",
      "hit_ratio@5 : 0.453\n",
      "ndcg@10    : 0.380\n",
      "hit_ratio@10 : 0.566\n",
      "ndcg@50    : 0.405\n",
      "hit_ratio@50 : 0.664\n"
     ]
    }
   ],
   "source": [
    "user_jaccard_alg = UserKNN(SimilarityFunction.jaccard,k=100)\n",
    "user_jaccard_alg.fit(train_loader.dataset.csr_matrix)\n",
    "\n",
    "evaluate_recommender_algorithm(user_jaccard_alg,test_loader)\n",
    "\n",
    "del user_jaccard_alg"
   ]
  },
  {
   "cell_type": "markdown",
   "id": "03a8d3ca-0450-482a-82fd-c4a7ee51a3c6",
   "metadata": {},
   "source": [
    "### Cosine Similarity\n",
    "Defined as $\\frac{\\sum_i u_x^i \\cdot u_y^i}{\\sqrt{\\sum_i {u_x^i}^2} \\sqrt{\\sum_i {u_y^i}^2}}$ where $u_x$ and $u_y$ are the row vectors of the user-item interaction matrix\n",
    "\n",
    "**Attempt to a intuitive explanation/reading the formula**: (Note that in the case of binary data as it is now, the cosine similarity is ~similar to jaccard. The difference is in the denominator: while for jaccard you simiply sum the elements in the union, for cosine we sum the square roots of the sum of the elements in each set.). The cosine similarity measures the angle between two vectors. Assuming that each item represent a specific dimension, the cosine ~checks how these vectors are oriented in the multidimensional space. If the vectors are oriented in the same direction (regardless of their intensity/length), then they are similar. If they are oriented in opposite directions, then they are dissimilar.\n"
   ]
  },
  {
   "cell_type": "code",
   "execution_count": 8,
   "id": "60296545-af91-409a-af5d-b5f0f7e1ef1a",
   "metadata": {},
   "outputs": [
    {
     "name": "stdout",
     "output_type": "stream",
     "text": [
      "Built RecommenderAlgorithm module\n",
      "Built KNNAlgorithm module \n",
      "- sim_func: <function compute_cosine_sim_mtx at 0x7fc988d91940> \n",
      "- k: 100 \n",
      "\n",
      "Built UserKNN module \n",
      "\n",
      "Starting Fitting\n",
      "End Fitting\n",
      "ndcg@1     : 0.228\n",
      "hit_ratio@1 : 0.228\n",
      "ndcg@3     : 0.322\n",
      "hit_ratio@3 : 0.391\n",
      "ndcg@5     : 0.355\n",
      "hit_ratio@5 : 0.472\n",
      "ndcg@10    : 0.393\n",
      "hit_ratio@10 : 0.587\n",
      "ndcg@50    : 0.434\n",
      "hit_ratio@50 : 0.760\n"
     ]
    }
   ],
   "source": [
    "user_cosine_alg = UserKNN(SimilarityFunction.cosine,k=100)\n",
    "user_cosine_alg.fit(train_loader.dataset.csr_matrix)\n",
    "\n",
    "evaluate_recommender_algorithm(user_cosine_alg,test_loader)\n",
    "\n",
    "del user_cosine_alg"
   ]
  },
  {
   "cell_type": "markdown",
   "id": "62267955-a93c-4731-a01d-fa3e65f2b781",
   "metadata": {},
   "source": [
    "### Pearson Correlation\n",
    "Defined as $\\frac{\\sum_i (u_x^i - \\bar{u_x}) \\cdot (u_y^i - \\bar{u_y})}{\\sqrt{\\sum_i {(u_x^i - \\bar{u_x})}^2} \\sqrt{\\sum_i {(u_y^i - \\bar{u_y})}^2}}$ where $u_x$ and $u_y$ are the row vectors of the user-item interaction matrix and $\\bar{u_x}$ and $\\bar{u_y}$ the respective means\n",
    "\n",
    "**Attempt to a intuitive explanation/reading the formula**: In general, pearson correlation evaluates if two measurments are linearly dependent to each other (i.e. if you can write Y=aX + b where X,Y are user vector ratings and a,b are parameters). The definition is similar to the cosine similarity but by subtracting the mean of the measurments , computed over *all* the items. Note that, otherwise, the mean would be 1, and thus leading to 0 everywhere when removing the mean (1-1=0). This mean, then, should take into account some information about the number consumed by the users (the higher the number of items consumed, the bigger the mean), similarly what the denominator does for the jaccard similarity. The mean is then removed by the vectors (only non-zero entries) and the definition of cosine similarity is applied. The mean is removed only to these entries because... performance? Removing the mean to 0s makes them go below 0. Does it make sense at all to have a negative similarity? Looking at the results, it seems that the metrics  are even better for the dense definition below\n",
    "\n"
   ]
  },
  {
   "cell_type": "code",
   "execution_count": 9,
   "id": "55985e28-15f3-4c6a-8cfb-15d219d4752f",
   "metadata": {},
   "outputs": [
    {
     "name": "stdout",
     "output_type": "stream",
     "text": [
      "Built RecommenderAlgorithm module\n",
      "Built KNNAlgorithm module \n",
      "- sim_func: <function compute_pearson_sim_mtx at 0x7fc988d918b0> \n",
      "- k: 100 \n",
      "\n",
      "Built UserKNN module \n",
      "\n",
      "Starting Fitting\n",
      "End Fitting\n",
      "ndcg@1     : 0.228\n",
      "hit_ratio@1 : 0.228\n",
      "ndcg@3     : 0.322\n",
      "hit_ratio@3 : 0.391\n",
      "ndcg@5     : 0.355\n",
      "hit_ratio@5 : 0.472\n",
      "ndcg@10    : 0.393\n",
      "hit_ratio@10 : 0.587\n",
      "ndcg@50    : 0.434\n",
      "hit_ratio@50 : 0.760\n"
     ]
    }
   ],
   "source": [
    "user_pearson_alg = UserKNN(SimilarityFunction.pearson,k=100)\n",
    "user_pearson_alg.fit(train_loader.dataset.csr_matrix)\n",
    "\n",
    "evaluate_recommender_algorithm(user_pearson_alg,test_loader)\n",
    "\n",
    "del user_pearson_alg"
   ]
  },
  {
   "cell_type": "markdown",
   "id": "de655645-627a-4525-9e22-29d1539a7300",
   "metadata": {},
   "source": [
    "### Asymmetric Cosine Similarity\n",
    "Defined as $\\frac{|I_x \\cap I_y|}{|I_x|^\\alpha |I_y|^{1-\\alpha}}$ where $I_x$ and $I_y$ are the set of items interacted by user x and y respectively and $\\alpha$ is a hyperparameter. (see also [here](https://dl.acm.org/doi/pdf/10.1145/2507157.2507189))\n",
    "\n",
    "**Attempt to a intuitive explanation/reading the formula**: The cosine similarity can be generalized in such a way to give different weght to the different cardilnalities of the  item sets. The paper reports this example for the items. Imagine you are comparing two songs and you want to estimates their similarity. Assume that song A is a popular song from (changing the band) Muse e.g. Madness and song B a more unknown song by them e.g. Unintended. If we know that a user consumed B, it is likely that the user is a Muse's fan and will also consume A. If we know that user consumed A, it is not clear if the user just listened to this popular song or is a fan of Muse (and consume song B). This leads to: song B is more similar to song A than song A is to B. For this reason, we scale the weight given a specific alpha. As an example, consider that Song A got 100 users, Song B 12 users and only 10 users listened to both Song A and B"
   ]
  },
  {
   "cell_type": "code",
   "execution_count": 10,
   "id": "e13a4086-1b7b-4b47-a9ff-cfc68c927595",
   "metadata": {},
   "outputs": [
    {
     "name": "stdout",
     "output_type": "stream",
     "text": [
      "Built RecommenderAlgorithm module\n",
      "Built KNNAlgorithm module \n",
      "- sim_func: functools.partial(<function compute_asymmetric_cosine_sim_mtx at 0x7fc988d91670>, 0.6) \n",
      "- k: 100 \n",
      "\n",
      "Built UserKNN module \n",
      "\n",
      "Starting Fitting\n",
      "End Fitting\n",
      "ndcg@1     : 0.219\n",
      "hit_ratio@1 : 0.219\n",
      "ndcg@3     : 0.314\n",
      "hit_ratio@3 : 0.385\n",
      "ndcg@5     : 0.348\n",
      "hit_ratio@5 : 0.466\n",
      "ndcg@10    : 0.386\n",
      "hit_ratio@10 : 0.584\n",
      "ndcg@50    : 0.431\n",
      "hit_ratio@50 : 0.775\n"
     ]
    }
   ],
   "source": [
    "user_asymmetric_cosine_alg = UserKNN(SimilarityFunction.asymmetric_cosine,k=100,alpha=0.6)\n",
    "user_asymmetric_cosine_alg.fit(train_loader.dataset.csr_matrix)\n",
    "\n",
    "evaluate_recommender_algorithm(user_asymmetric_cosine_alg,test_loader)\n",
    "\n",
    "del user_asymmetric_cosine_alg"
   ]
  },
  {
   "cell_type": "markdown",
   "id": "e2de8d2e-e44b-4117-b5c5-120753e1525d",
   "metadata": {},
   "source": [
    "### Sørensen–Dice Coefficient\n",
    "Defined as $2\\frac{|I_x \\cap I_y|}{|I_x| + |I_y|}$ where $I_x$ and $I_y$ are the set of items interacted by user x and y respectively. (see also [here](https://en.wikipedia.org/wiki/S%C3%B8rensen%E2%80%93Dice_coefficient))\n",
    "\n",
    "**Attempt to a intuitive explanation/reading the formula**:\n",
    "No real explanation for this one. It basically just give twice the weight to the shared information. (It is also very similar to Jaccard)"
   ]
  },
  {
   "cell_type": "code",
   "execution_count": 11,
   "id": "3311505e-8e46-4537-ab2b-ca63628f1ba6",
   "metadata": {},
   "outputs": [
    {
     "name": "stdout",
     "output_type": "stream",
     "text": [
      "Built RecommenderAlgorithm module\n",
      "Built KNNAlgorithm module \n",
      "- sim_func: <function compute_sorensen_dice_sim_mtx at 0x7fc988d91ca0> \n",
      "- k: 100 \n",
      "\n",
      "Built UserKNN module \n",
      "\n",
      "Starting Fitting\n",
      "End Fitting\n",
      "ndcg@1     : 0.228\n",
      "hit_ratio@1 : 0.228\n",
      "ndcg@3     : 0.321\n",
      "hit_ratio@3 : 0.389\n",
      "ndcg@5     : 0.358\n",
      "hit_ratio@5 : 0.478\n",
      "ndcg@10    : 0.394\n",
      "hit_ratio@10 : 0.590\n",
      "ndcg@50    : 0.434\n",
      "hit_ratio@50 : 0.754\n"
     ]
    }
   ],
   "source": [
    "user_sorensen_dice_alg = UserKNN(SimilarityFunction.sorensen_dice,k=100)\n",
    "user_sorensen_dice_alg.fit(train_loader.dataset.csr_matrix)\n",
    "\n",
    "evaluate_recommender_algorithm(user_sorensen_dice_alg,test_loader)\n",
    "\n",
    "del user_sorensen_dice_alg"
   ]
  },
  {
   "cell_type": "markdown",
   "id": "f4499bab-2e36-44a6-ae53-32df0661676b",
   "metadata": {},
   "source": [
    "### Tversky Index\n",
    "Defined as $\\frac{|I_x \\cap I_y|}{|I_x \\cap I_y| + \\alpha|I_x - I_y| + \\beta|I_y - I_x|}$ where $I_x$ and $I_y$ are the set of items interacted by user x and y respectively and $\\alpha$ and $\\beta$ are hyperparameters. (see also [here](https://en.wikipedia.org/wiki/Tversky_index))\n",
    "\n",
    "**Attempt to a intuitive explanation/reading the formula**:\n",
    "As Asymmetric Cosine, the Tversky index is an asymmetric similarity function. It basically gives a 'different' weighting scheme for the common/ not-in-common items compared to asymmetric cosine. "
   ]
  },
  {
   "cell_type": "code",
   "execution_count": 13,
   "id": "c24ed60e-2ce1-433f-a5f2-54efe828bf0b",
   "metadata": {},
   "outputs": [
    {
     "name": "stdout",
     "output_type": "stream",
     "text": [
      "Built RecommenderAlgorithm module\n",
      "Built KNNAlgorithm module \n",
      "- sim_func: functools.partial(<function compute_tversky_sim_mtx at 0x7fc988d91c10>, 0.8, 0.6) \n",
      "- k: 100 \n",
      "\n",
      "Built UserKNN module \n",
      "\n",
      "Starting Fitting\n",
      "End Fitting\n",
      "ndcg@1     : 0.226\n",
      "hit_ratio@1 : 0.226\n",
      "ndcg@3     : 0.320\n",
      "hit_ratio@3 : 0.387\n",
      "ndcg@5     : 0.357\n",
      "hit_ratio@5 : 0.478\n",
      "ndcg@10    : 0.392\n",
      "hit_ratio@10 : 0.588\n",
      "ndcg@50    : 0.433\n",
      "hit_ratio@50 : 0.758\n"
     ]
    }
   ],
   "source": [
    "user_tversky_alg = UserKNN(SimilarityFunction.tversky,k=100,alpha=0.8,beta=0.6)\n",
    "user_tversky_alg.fit(train_loader.dataset.csr_matrix)\n",
    "\n",
    "evaluate_recommender_algorithm(user_tversky_alg,test_loader)\n",
    "\n",
    "del user_tversky_alg"
   ]
  },
  {
   "cell_type": "markdown",
   "id": "15315a85-4239-460d-a40d-43bc5f610130",
   "metadata": {},
   "source": [
    "# Item-based KNN (Collaborative Filtering)\n",
    "We generate a n_items x n_items similarity matrix. The prediction for an item i and and user u is given by the weighted average of the similarities of item i and its top-k neighbours that also were consumed by user u. \n",
    "\n",
    "**Most of the similarityfunctions should be further optimized in order to work for huge similarity matrices!! It is already a miracle if it works with the cosine!**"
   ]
  },
  {
   "cell_type": "markdown",
   "id": "2782bb4a-53d9-48e0-9a44-dc0fcda99a0e",
   "metadata": {},
   "source": [
    "### Cosine Similarity"
   ]
  },
  {
   "cell_type": "code",
   "execution_count": 16,
   "id": "04bdbf76-f3f4-42f5-8e01-b139a25c7ee3",
   "metadata": {
    "tags": []
   },
   "outputs": [
    {
     "name": "stdout",
     "output_type": "stream",
     "text": [
      "Built RecommenderAlgorithm module\n",
      "Built KNNAlgorithm module \n",
      "- sim_func: <function compute_cosine_sim_mtx at 0x7fc988d91940> \n",
      "- k: 100 \n",
      "\n",
      "Built ItemKNN module \n",
      "\n",
      "Starting Fitting\n",
      "End Fitting\n",
      "ndcg@1     : 0.352\n",
      "hit_ratio@1 : 0.352\n",
      "ndcg@3     : 0.458\n",
      "hit_ratio@3 : 0.532\n",
      "ndcg@5     : 0.485\n",
      "hit_ratio@5 : 0.597\n",
      "ndcg@10    : 0.508\n",
      "hit_ratio@10 : 0.669\n",
      "ndcg@50    : 0.516\n",
      "hit_ratio@50 : 0.702\n"
     ]
    }
   ],
   "source": [
    "from algorithms.knn_algs import ItemKNN\n",
    "from utilities.similarities import SimilarityFunction\n",
    "\n",
    "item_cosine_alg = ItemKNN(SimilarityFunction.cosine,k=100)\n",
    "item_cosine_alg.fit(train_loader.dataset.csr_matrix)\n",
    "\n",
    "evaluate_recommender_algorithm(item_cosine_alg,test_loader)\n",
    "\n",
    "del item_cosine_alg"
   ]
  },
  {
   "cell_type": "markdown",
   "id": "e15f26ff-e1d5-44ff-833a-beac6c146621",
   "metadata": {},
   "source": [
    "# SLIM"
   ]
  },
  {
   "cell_type": "code",
   "execution_count": 17,
   "id": "edd89c05-69b7-4184-84bf-b257dac9b5f5",
   "metadata": {
    "collapsed": true,
    "jupyter": {
     "outputs_hidden": true
    },
    "tags": []
   },
   "outputs": [
    {
     "name": "stdout",
     "output_type": "stream",
     "text": [
      "Built RecommenderAlgorithm module\n",
      "Built SLIM module \n",
      "- alpha: 0.1 \n",
      "- l1_ratio: 0.01 \n",
      "- max_iter: 100 \n",
      "\n",
      "Running on 8 cores\n"
     ]
    },
    {
     "name": "stderr",
     "output_type": "stream",
     "text": [
      "48740 -> 58488:   0%|                       | 22/9748 [00:12<1:25:24,  1.90it/s]"
     ]
    },
    {
     "ename": "KeyboardInterrupt",
     "evalue": "",
     "output_type": "error",
     "traceback": [
      "\u001b[0;31m---------------------------------------------------------------------------\u001b[0m",
      "\u001b[0;31mKeyboardInterrupt\u001b[0m                         Traceback (most recent call last)",
      "\u001b[0;32m/tmp/ipykernel_26500/3094765212.py\u001b[0m in \u001b[0;36m<module>\u001b[0;34m\u001b[0m\n\u001b[1;32m      2\u001b[0m \u001b[0;34m\u001b[0m\u001b[0m\n\u001b[1;32m      3\u001b[0m \u001b[0mslim_alg\u001b[0m \u001b[0;34m=\u001b[0m \u001b[0mSLIM\u001b[0m\u001b[0;34m(\u001b[0m\u001b[0malpha\u001b[0m\u001b[0;34m=\u001b[0m\u001b[0;36m1e-1\u001b[0m\u001b[0;34m,\u001b[0m\u001b[0ml1_ratio\u001b[0m\u001b[0;34m=\u001b[0m\u001b[0;36m1e-2\u001b[0m\u001b[0;34m,\u001b[0m\u001b[0mmax_iter\u001b[0m\u001b[0;34m=\u001b[0m\u001b[0;36m100\u001b[0m\u001b[0;34m)\u001b[0m\u001b[0;34m\u001b[0m\u001b[0;34m\u001b[0m\u001b[0m\n\u001b[0;32m----> 4\u001b[0;31m \u001b[0mslim_alg\u001b[0m\u001b[0;34m.\u001b[0m\u001b[0mfit\u001b[0m\u001b[0;34m(\u001b[0m\u001b[0mtrain_loader\u001b[0m\u001b[0;34m.\u001b[0m\u001b[0mdataset\u001b[0m\u001b[0;34m.\u001b[0m\u001b[0mcsr_matrix\u001b[0m\u001b[0;34m)\u001b[0m\u001b[0;34m\u001b[0m\u001b[0;34m\u001b[0m\u001b[0m\n\u001b[0m\u001b[1;32m      5\u001b[0m \u001b[0;34m\u001b[0m\u001b[0m\n\u001b[1;32m      6\u001b[0m \u001b[0mevaluate_recommender_algorithm\u001b[0m\u001b[0;34m(\u001b[0m\u001b[0mslim_alg\u001b[0m\u001b[0;34m,\u001b[0m\u001b[0mtest_loader\u001b[0m\u001b[0;34m)\u001b[0m\u001b[0;34m\u001b[0m\u001b[0;34m\u001b[0m\u001b[0m\n",
      "\u001b[0;32m~/PycharmProjects/recappr/algorithms/linear_algs.py\u001b[0m in \u001b[0;36mfit\u001b[0;34m(self, matrix)\u001b[0m\n\u001b[1;32m     51\u001b[0m \u001b[0;34m\u001b[0m\u001b[0m\n\u001b[1;32m     52\u001b[0m         \u001b[0;32mwith\u001b[0m \u001b[0mmultiprocessing\u001b[0m\u001b[0;34m.\u001b[0m\u001b[0mPool\u001b[0m\u001b[0;34m(\u001b[0m\u001b[0;34m)\u001b[0m \u001b[0;32mas\u001b[0m \u001b[0mpool\u001b[0m\u001b[0;34m:\u001b[0m\u001b[0;34m\u001b[0m\u001b[0;34m\u001b[0m\u001b[0m\n\u001b[0;32m---> 53\u001b[0;31m             \u001b[0mresults\u001b[0m \u001b[0;34m=\u001b[0m \u001b[0mpool\u001b[0m\u001b[0;34m.\u001b[0m\u001b[0mmap\u001b[0m\u001b[0;34m(\u001b[0m\u001b[0mSLIM\u001b[0m\u001b[0;34m.\u001b[0m\u001b[0mwork\u001b[0m\u001b[0;34m,\u001b[0m \u001b[0mseparated_tasks\u001b[0m\u001b[0;34m)\u001b[0m\u001b[0;34m\u001b[0m\u001b[0;34m\u001b[0m\u001b[0m\n\u001b[0m\u001b[1;32m     54\u001b[0m \u001b[0;34m\u001b[0m\u001b[0m\n\u001b[1;32m     55\u001b[0m         \u001b[0mW_rows_idxs\u001b[0m \u001b[0;34m=\u001b[0m \u001b[0mlist\u001b[0m\u001b[0;34m(\u001b[0m\u001b[0mitertools\u001b[0m\u001b[0;34m.\u001b[0m\u001b[0mchain\u001b[0m\u001b[0;34m(\u001b[0m\u001b[0;34m*\u001b[0m\u001b[0;34m[\u001b[0m\u001b[0mx\u001b[0m\u001b[0;34m[\u001b[0m\u001b[0;36m0\u001b[0m\u001b[0;34m]\u001b[0m \u001b[0;32mfor\u001b[0m \u001b[0mx\u001b[0m \u001b[0;32min\u001b[0m \u001b[0mresults\u001b[0m\u001b[0;34m]\u001b[0m\u001b[0;34m)\u001b[0m\u001b[0;34m)\u001b[0m\u001b[0;34m\u001b[0m\u001b[0;34m\u001b[0m\u001b[0m\n",
      "\u001b[0;32m~/anaconda3/envs/recappr/lib/python3.9/multiprocessing/pool.py\u001b[0m in \u001b[0;36mmap\u001b[0;34m(self, func, iterable, chunksize)\u001b[0m\n\u001b[1;32m    362\u001b[0m         \u001b[0;32min\u001b[0m \u001b[0ma\u001b[0m \u001b[0mlist\u001b[0m \u001b[0mthat\u001b[0m \u001b[0;32mis\u001b[0m \u001b[0mreturned\u001b[0m\u001b[0;34m.\u001b[0m\u001b[0;34m\u001b[0m\u001b[0;34m\u001b[0m\u001b[0m\n\u001b[1;32m    363\u001b[0m         '''\n\u001b[0;32m--> 364\u001b[0;31m         \u001b[0;32mreturn\u001b[0m \u001b[0mself\u001b[0m\u001b[0;34m.\u001b[0m\u001b[0m_map_async\u001b[0m\u001b[0;34m(\u001b[0m\u001b[0mfunc\u001b[0m\u001b[0;34m,\u001b[0m \u001b[0miterable\u001b[0m\u001b[0;34m,\u001b[0m \u001b[0mmapstar\u001b[0m\u001b[0;34m,\u001b[0m \u001b[0mchunksize\u001b[0m\u001b[0;34m)\u001b[0m\u001b[0;34m.\u001b[0m\u001b[0mget\u001b[0m\u001b[0;34m(\u001b[0m\u001b[0;34m)\u001b[0m\u001b[0;34m\u001b[0m\u001b[0;34m\u001b[0m\u001b[0m\n\u001b[0m\u001b[1;32m    365\u001b[0m \u001b[0;34m\u001b[0m\u001b[0m\n\u001b[1;32m    366\u001b[0m     \u001b[0;32mdef\u001b[0m \u001b[0mstarmap\u001b[0m\u001b[0;34m(\u001b[0m\u001b[0mself\u001b[0m\u001b[0;34m,\u001b[0m \u001b[0mfunc\u001b[0m\u001b[0;34m,\u001b[0m \u001b[0miterable\u001b[0m\u001b[0;34m,\u001b[0m \u001b[0mchunksize\u001b[0m\u001b[0;34m=\u001b[0m\u001b[0;32mNone\u001b[0m\u001b[0;34m)\u001b[0m\u001b[0;34m:\u001b[0m\u001b[0;34m\u001b[0m\u001b[0;34m\u001b[0m\u001b[0m\n",
      "\u001b[0;32m~/anaconda3/envs/recappr/lib/python3.9/multiprocessing/pool.py\u001b[0m in \u001b[0;36mget\u001b[0;34m(self, timeout)\u001b[0m\n\u001b[1;32m    763\u001b[0m \u001b[0;34m\u001b[0m\u001b[0m\n\u001b[1;32m    764\u001b[0m     \u001b[0;32mdef\u001b[0m \u001b[0mget\u001b[0m\u001b[0;34m(\u001b[0m\u001b[0mself\u001b[0m\u001b[0;34m,\u001b[0m \u001b[0mtimeout\u001b[0m\u001b[0;34m=\u001b[0m\u001b[0;32mNone\u001b[0m\u001b[0;34m)\u001b[0m\u001b[0;34m:\u001b[0m\u001b[0;34m\u001b[0m\u001b[0;34m\u001b[0m\u001b[0m\n\u001b[0;32m--> 765\u001b[0;31m         \u001b[0mself\u001b[0m\u001b[0;34m.\u001b[0m\u001b[0mwait\u001b[0m\u001b[0;34m(\u001b[0m\u001b[0mtimeout\u001b[0m\u001b[0;34m)\u001b[0m\u001b[0;34m\u001b[0m\u001b[0;34m\u001b[0m\u001b[0m\n\u001b[0m\u001b[1;32m    766\u001b[0m         \u001b[0;32mif\u001b[0m \u001b[0;32mnot\u001b[0m \u001b[0mself\u001b[0m\u001b[0;34m.\u001b[0m\u001b[0mready\u001b[0m\u001b[0;34m(\u001b[0m\u001b[0;34m)\u001b[0m\u001b[0;34m:\u001b[0m\u001b[0;34m\u001b[0m\u001b[0;34m\u001b[0m\u001b[0m\n\u001b[1;32m    767\u001b[0m             \u001b[0;32mraise\u001b[0m \u001b[0mTimeoutError\u001b[0m\u001b[0;34m\u001b[0m\u001b[0;34m\u001b[0m\u001b[0m\n",
      "\u001b[0;32m~/anaconda3/envs/recappr/lib/python3.9/multiprocessing/pool.py\u001b[0m in \u001b[0;36mwait\u001b[0;34m(self, timeout)\u001b[0m\n\u001b[1;32m    760\u001b[0m \u001b[0;34m\u001b[0m\u001b[0m\n\u001b[1;32m    761\u001b[0m     \u001b[0;32mdef\u001b[0m \u001b[0mwait\u001b[0m\u001b[0;34m(\u001b[0m\u001b[0mself\u001b[0m\u001b[0;34m,\u001b[0m \u001b[0mtimeout\u001b[0m\u001b[0;34m=\u001b[0m\u001b[0;32mNone\u001b[0m\u001b[0;34m)\u001b[0m\u001b[0;34m:\u001b[0m\u001b[0;34m\u001b[0m\u001b[0;34m\u001b[0m\u001b[0m\n\u001b[0;32m--> 762\u001b[0;31m         \u001b[0mself\u001b[0m\u001b[0;34m.\u001b[0m\u001b[0m_event\u001b[0m\u001b[0;34m.\u001b[0m\u001b[0mwait\u001b[0m\u001b[0;34m(\u001b[0m\u001b[0mtimeout\u001b[0m\u001b[0;34m)\u001b[0m\u001b[0;34m\u001b[0m\u001b[0;34m\u001b[0m\u001b[0m\n\u001b[0m\u001b[1;32m    763\u001b[0m \u001b[0;34m\u001b[0m\u001b[0m\n\u001b[1;32m    764\u001b[0m     \u001b[0;32mdef\u001b[0m \u001b[0mget\u001b[0m\u001b[0;34m(\u001b[0m\u001b[0mself\u001b[0m\u001b[0;34m,\u001b[0m \u001b[0mtimeout\u001b[0m\u001b[0;34m=\u001b[0m\u001b[0;32mNone\u001b[0m\u001b[0;34m)\u001b[0m\u001b[0;34m:\u001b[0m\u001b[0;34m\u001b[0m\u001b[0;34m\u001b[0m\u001b[0m\n",
      "\u001b[0;32m~/anaconda3/envs/recappr/lib/python3.9/threading.py\u001b[0m in \u001b[0;36mwait\u001b[0;34m(self, timeout)\u001b[0m\n\u001b[1;32m    572\u001b[0m             \u001b[0msignaled\u001b[0m \u001b[0;34m=\u001b[0m \u001b[0mself\u001b[0m\u001b[0;34m.\u001b[0m\u001b[0m_flag\u001b[0m\u001b[0;34m\u001b[0m\u001b[0;34m\u001b[0m\u001b[0m\n\u001b[1;32m    573\u001b[0m             \u001b[0;32mif\u001b[0m \u001b[0;32mnot\u001b[0m \u001b[0msignaled\u001b[0m\u001b[0;34m:\u001b[0m\u001b[0;34m\u001b[0m\u001b[0;34m\u001b[0m\u001b[0m\n\u001b[0;32m--> 574\u001b[0;31m                 \u001b[0msignaled\u001b[0m \u001b[0;34m=\u001b[0m \u001b[0mself\u001b[0m\u001b[0;34m.\u001b[0m\u001b[0m_cond\u001b[0m\u001b[0;34m.\u001b[0m\u001b[0mwait\u001b[0m\u001b[0;34m(\u001b[0m\u001b[0mtimeout\u001b[0m\u001b[0;34m)\u001b[0m\u001b[0;34m\u001b[0m\u001b[0;34m\u001b[0m\u001b[0m\n\u001b[0m\u001b[1;32m    575\u001b[0m             \u001b[0;32mreturn\u001b[0m \u001b[0msignaled\u001b[0m\u001b[0;34m\u001b[0m\u001b[0;34m\u001b[0m\u001b[0m\n\u001b[1;32m    576\u001b[0m \u001b[0;34m\u001b[0m\u001b[0m\n",
      "\u001b[0;32m~/anaconda3/envs/recappr/lib/python3.9/threading.py\u001b[0m in \u001b[0;36mwait\u001b[0;34m(self, timeout)\u001b[0m\n\u001b[1;32m    310\u001b[0m         \u001b[0;32mtry\u001b[0m\u001b[0;34m:\u001b[0m    \u001b[0;31m# restore state no matter what (e.g., KeyboardInterrupt)\u001b[0m\u001b[0;34m\u001b[0m\u001b[0;34m\u001b[0m\u001b[0m\n\u001b[1;32m    311\u001b[0m             \u001b[0;32mif\u001b[0m \u001b[0mtimeout\u001b[0m \u001b[0;32mis\u001b[0m \u001b[0;32mNone\u001b[0m\u001b[0;34m:\u001b[0m\u001b[0;34m\u001b[0m\u001b[0;34m\u001b[0m\u001b[0m\n\u001b[0;32m--> 312\u001b[0;31m                 \u001b[0mwaiter\u001b[0m\u001b[0;34m.\u001b[0m\u001b[0macquire\u001b[0m\u001b[0;34m(\u001b[0m\u001b[0;34m)\u001b[0m\u001b[0;34m\u001b[0m\u001b[0;34m\u001b[0m\u001b[0m\n\u001b[0m\u001b[1;32m    313\u001b[0m                 \u001b[0mgotit\u001b[0m \u001b[0;34m=\u001b[0m \u001b[0;32mTrue\u001b[0m\u001b[0;34m\u001b[0m\u001b[0;34m\u001b[0m\u001b[0m\n\u001b[1;32m    314\u001b[0m             \u001b[0;32melse\u001b[0m\u001b[0;34m:\u001b[0m\u001b[0;34m\u001b[0m\u001b[0;34m\u001b[0m\u001b[0m\n",
      "\u001b[0;31mKeyboardInterrupt\u001b[0m: "
     ]
    }
   ],
   "source": [
    "from algorithms.linear_algs import SLIM\n",
    "\n",
    "slim_alg = SLIM(alpha=1e-1,l1_ratio=1e-2,max_iter=100)\n",
    "slim_alg.fit(train_loader.dataset.csr_matrix)\n",
    "\n",
    "evaluate_recommender_algorithm(slim_alg,test_loader)\n",
    "\n",
    "del slim_alg"
   ]
  },
  {
   "cell_type": "markdown",
   "id": "61ded76b-1156-4e58-8905-92e14161ef0c",
   "metadata": {},
   "source": [
    "# EASE"
   ]
  },
  {
   "cell_type": "code",
   "execution_count": null,
   "id": "a74bc609-911e-4754-ae0c-bce4ba7bdaba",
   "metadata": {},
   "outputs": [],
   "source": [
    "# EASE would implode with this amount of items"
   ]
  },
  {
   "cell_type": "markdown",
   "id": "ac896caf-3e1c-46ae-804d-0a00731f56da",
   "metadata": {},
   "source": [
    "# Deep Matrix Factorization\n",
    "[paper](https://www.ijcai.org/Proceedings/2017/0447.pdf)"
   ]
  },
  {
   "cell_type": "code",
   "execution_count": 6,
   "id": "54483565-26c3-4fd9-8ce2-96f95c68bd5c",
   "metadata": {},
   "outputs": [
    {
     "name": "stdout",
     "output_type": "stream",
     "text": [
      "RecommenderAlgorithm class crated\n",
      "SGDBasedRecommenderAlgorithm class crated\n",
      "DeepMatrixFactorization class created\n",
      "Built Trainer module\n"
     ]
    }
   ],
   "source": [
    "from algorithms.neural_alg import DeepMatrixFactorization\n",
    "from utilities.trainer import ExperimentConfig,Trainer\n",
    "\n",
    "\n",
    "dmf_alg = DeepMatrixFactorization(train_loader.dataset.csr_matrix,u_mid_layers=[100],i_mid_layers=[100],final_dimension=32)\n",
    "conf = ExperimentConfig(lr=1e-4,device='cpu')\n",
    "trainer = Trainer(dmf_alg,train_loader,val_loader,conf)"
   ]
  },
  {
   "cell_type": "code",
   "execution_count": 9,
   "id": "d0ffd5b1-fef6-42b9-a922-f78af2f41b45",
   "metadata": {},
   "outputs": [
    {
     "name": "stdout",
     "output_type": "stream",
     "text": [
      "Validation started\n",
      "Init - Avg Val Value 0.090 \n",
      "\n"
     ]
    },
    {
     "ename": "KeyboardInterrupt",
     "evalue": "",
     "output_type": "error",
     "traceback": [
      "\u001b[0;31m---------------------------------------------------------------------------\u001b[0m",
      "\u001b[0;31mKeyboardInterrupt\u001b[0m                         Traceback (most recent call last)",
      "\u001b[0;32m/tmp/ipykernel_15296/498936609.py\u001b[0m in \u001b[0;36m<module>\u001b[0;34m\u001b[0m\n\u001b[0;32m----> 1\u001b[0;31m \u001b[0mtrainer\u001b[0m\u001b[0;34m.\u001b[0m\u001b[0mfit\u001b[0m\u001b[0;34m(\u001b[0m\u001b[0;34m)\u001b[0m\u001b[0;34m\u001b[0m\u001b[0;34m\u001b[0m\u001b[0m\n\u001b[0m",
      "\u001b[0;32m~/PycharmProjects/recappr/utilities/trainer.py\u001b[0m in \u001b[0;36mfit\u001b[0;34m(self)\u001b[0m\n\u001b[1;32m    114\u001b[0m \u001b[0;34m\u001b[0m\u001b[0m\n\u001b[1;32m    115\u001b[0m                 \u001b[0mloss\u001b[0m\u001b[0;34m.\u001b[0m\u001b[0mbackward\u001b[0m\u001b[0;34m(\u001b[0m\u001b[0;34m)\u001b[0m\u001b[0;34m\u001b[0m\u001b[0;34m\u001b[0m\u001b[0m\n\u001b[0;32m--> 116\u001b[0;31m                 \u001b[0mself\u001b[0m\u001b[0;34m.\u001b[0m\u001b[0moptimizer\u001b[0m\u001b[0;34m.\u001b[0m\u001b[0mstep\u001b[0m\u001b[0;34m(\u001b[0m\u001b[0;34m)\u001b[0m\u001b[0;34m\u001b[0m\u001b[0;34m\u001b[0m\u001b[0m\n\u001b[0m\u001b[1;32m    117\u001b[0m                 \u001b[0mself\u001b[0m\u001b[0;34m.\u001b[0m\u001b[0moptimizer\u001b[0m\u001b[0;34m.\u001b[0m\u001b[0mzero_grad\u001b[0m\u001b[0;34m(\u001b[0m\u001b[0;34m)\u001b[0m\u001b[0;34m\u001b[0m\u001b[0;34m\u001b[0m\u001b[0m\n\u001b[1;32m    118\u001b[0m \u001b[0;34m\u001b[0m\u001b[0m\n",
      "\u001b[0;32m~/anaconda3/envs/recappr/lib/python3.9/site-packages/torch/optim/optimizer.py\u001b[0m in \u001b[0;36mwrapper\u001b[0;34m(*args, **kwargs)\u001b[0m\n\u001b[1;32m     86\u001b[0m                 \u001b[0mprofile_name\u001b[0m \u001b[0;34m=\u001b[0m \u001b[0;34m\"Optimizer.step#{}.step\"\u001b[0m\u001b[0;34m.\u001b[0m\u001b[0mformat\u001b[0m\u001b[0;34m(\u001b[0m\u001b[0mobj\u001b[0m\u001b[0;34m.\u001b[0m\u001b[0m__class__\u001b[0m\u001b[0;34m.\u001b[0m\u001b[0m__name__\u001b[0m\u001b[0;34m)\u001b[0m\u001b[0;34m\u001b[0m\u001b[0;34m\u001b[0m\u001b[0m\n\u001b[1;32m     87\u001b[0m                 \u001b[0;32mwith\u001b[0m \u001b[0mtorch\u001b[0m\u001b[0;34m.\u001b[0m\u001b[0mautograd\u001b[0m\u001b[0;34m.\u001b[0m\u001b[0mprofiler\u001b[0m\u001b[0;34m.\u001b[0m\u001b[0mrecord_function\u001b[0m\u001b[0;34m(\u001b[0m\u001b[0mprofile_name\u001b[0m\u001b[0;34m)\u001b[0m\u001b[0;34m:\u001b[0m\u001b[0;34m\u001b[0m\u001b[0;34m\u001b[0m\u001b[0m\n\u001b[0;32m---> 88\u001b[0;31m                     \u001b[0;32mreturn\u001b[0m \u001b[0mfunc\u001b[0m\u001b[0;34m(\u001b[0m\u001b[0;34m*\u001b[0m\u001b[0margs\u001b[0m\u001b[0;34m,\u001b[0m \u001b[0;34m**\u001b[0m\u001b[0mkwargs\u001b[0m\u001b[0;34m)\u001b[0m\u001b[0;34m\u001b[0m\u001b[0;34m\u001b[0m\u001b[0m\n\u001b[0m\u001b[1;32m     89\u001b[0m             \u001b[0;32mreturn\u001b[0m \u001b[0mwrapper\u001b[0m\u001b[0;34m\u001b[0m\u001b[0;34m\u001b[0m\u001b[0m\n\u001b[1;32m     90\u001b[0m \u001b[0;34m\u001b[0m\u001b[0m\n",
      "\u001b[0;32m~/anaconda3/envs/recappr/lib/python3.9/site-packages/torch/autograd/grad_mode.py\u001b[0m in \u001b[0;36mdecorate_context\u001b[0;34m(*args, **kwargs)\u001b[0m\n\u001b[1;32m     26\u001b[0m         \u001b[0;32mdef\u001b[0m \u001b[0mdecorate_context\u001b[0m\u001b[0;34m(\u001b[0m\u001b[0;34m*\u001b[0m\u001b[0margs\u001b[0m\u001b[0;34m,\u001b[0m \u001b[0;34m**\u001b[0m\u001b[0mkwargs\u001b[0m\u001b[0;34m)\u001b[0m\u001b[0;34m:\u001b[0m\u001b[0;34m\u001b[0m\u001b[0;34m\u001b[0m\u001b[0m\n\u001b[1;32m     27\u001b[0m             \u001b[0;32mwith\u001b[0m \u001b[0mself\u001b[0m\u001b[0;34m.\u001b[0m\u001b[0m__class__\u001b[0m\u001b[0;34m(\u001b[0m\u001b[0;34m)\u001b[0m\u001b[0;34m:\u001b[0m\u001b[0;34m\u001b[0m\u001b[0;34m\u001b[0m\u001b[0m\n\u001b[0;32m---> 28\u001b[0;31m                 \u001b[0;32mreturn\u001b[0m \u001b[0mfunc\u001b[0m\u001b[0;34m(\u001b[0m\u001b[0;34m*\u001b[0m\u001b[0margs\u001b[0m\u001b[0;34m,\u001b[0m \u001b[0;34m**\u001b[0m\u001b[0mkwargs\u001b[0m\u001b[0;34m)\u001b[0m\u001b[0;34m\u001b[0m\u001b[0;34m\u001b[0m\u001b[0m\n\u001b[0m\u001b[1;32m     29\u001b[0m         \u001b[0;32mreturn\u001b[0m \u001b[0mcast\u001b[0m\u001b[0;34m(\u001b[0m\u001b[0mF\u001b[0m\u001b[0;34m,\u001b[0m \u001b[0mdecorate_context\u001b[0m\u001b[0;34m)\u001b[0m\u001b[0;34m\u001b[0m\u001b[0;34m\u001b[0m\u001b[0m\n\u001b[1;32m     30\u001b[0m \u001b[0;34m\u001b[0m\u001b[0m\n",
      "\u001b[0;32m~/anaconda3/envs/recappr/lib/python3.9/site-packages/torch/optim/adam.py\u001b[0m in \u001b[0;36mstep\u001b[0;34m(self, closure)\u001b[0m\n\u001b[1;32m    131\u001b[0m                     \u001b[0mstate_steps\u001b[0m\u001b[0;34m.\u001b[0m\u001b[0mappend\u001b[0m\u001b[0;34m(\u001b[0m\u001b[0mstate\u001b[0m\u001b[0;34m[\u001b[0m\u001b[0;34m'step'\u001b[0m\u001b[0;34m]\u001b[0m\u001b[0;34m)\u001b[0m\u001b[0;34m\u001b[0m\u001b[0;34m\u001b[0m\u001b[0m\n\u001b[1;32m    132\u001b[0m \u001b[0;34m\u001b[0m\u001b[0m\n\u001b[0;32m--> 133\u001b[0;31m             F.adam(params_with_grad,\n\u001b[0m\u001b[1;32m    134\u001b[0m                    \u001b[0mgrads\u001b[0m\u001b[0;34m,\u001b[0m\u001b[0;34m\u001b[0m\u001b[0;34m\u001b[0m\u001b[0m\n\u001b[1;32m    135\u001b[0m                    \u001b[0mexp_avgs\u001b[0m\u001b[0;34m,\u001b[0m\u001b[0;34m\u001b[0m\u001b[0;34m\u001b[0m\u001b[0m\n",
      "\u001b[0;32m~/anaconda3/envs/recappr/lib/python3.9/site-packages/torch/optim/_functional.py\u001b[0m in \u001b[0;36madam\u001b[0;34m(params, grads, exp_avgs, exp_avg_sqs, max_exp_avg_sqs, state_steps, amsgrad, beta1, beta2, lr, weight_decay, eps)\u001b[0m\n\u001b[1;32m     81\u001b[0m \u001b[0;34m\u001b[0m\u001b[0m\n\u001b[1;32m     82\u001b[0m         \u001b[0;32mif\u001b[0m \u001b[0mweight_decay\u001b[0m \u001b[0;34m!=\u001b[0m \u001b[0;36m0\u001b[0m\u001b[0;34m:\u001b[0m\u001b[0;34m\u001b[0m\u001b[0;34m\u001b[0m\u001b[0m\n\u001b[0;32m---> 83\u001b[0;31m             \u001b[0mgrad\u001b[0m \u001b[0;34m=\u001b[0m \u001b[0mgrad\u001b[0m\u001b[0;34m.\u001b[0m\u001b[0madd\u001b[0m\u001b[0;34m(\u001b[0m\u001b[0mparam\u001b[0m\u001b[0;34m,\u001b[0m \u001b[0malpha\u001b[0m\u001b[0;34m=\u001b[0m\u001b[0mweight_decay\u001b[0m\u001b[0;34m)\u001b[0m\u001b[0;34m\u001b[0m\u001b[0;34m\u001b[0m\u001b[0m\n\u001b[0m\u001b[1;32m     84\u001b[0m \u001b[0;34m\u001b[0m\u001b[0m\n\u001b[1;32m     85\u001b[0m         \u001b[0;31m# Decay the first and second moment running average coefficient\u001b[0m\u001b[0;34m\u001b[0m\u001b[0;34m\u001b[0m\u001b[0m\n",
      "\u001b[0;31mKeyboardInterrupt\u001b[0m: "
     ]
    }
   ],
   "source": [
    "trainer.fit()"
   ]
  },
  {
   "cell_type": "markdown",
   "id": "486a0f16-4078-4a66-8c2e-0702397c6599",
   "metadata": {},
   "source": [
    "# $\\text{P}^3_\\alpha$"
   ]
  },
  {
   "cell_type": "code",
   "execution_count": 3,
   "id": "ab092b3b-7518-42c8-8e56-d2ea8f53cb57",
   "metadata": {},
   "outputs": [
    {
     "name": "stdout",
     "output_type": "stream",
     "text": [
      "Built RecommenderAlgorithm module\n",
      "Built P3alpha module\n",
      "Start fitting\n",
      "Frist Step done\n",
      "Second Step done\n",
      "End fitting\n",
      "ndcg@1     : 0.233\n",
      "hit_ratio@1 : 0.233\n",
      "ndcg@3     : 0.337\n",
      "hit_ratio@3 : 0.412\n",
      "ndcg@5     : 0.378\n",
      "hit_ratio@5 : 0.512\n",
      "ndcg@10    : 0.425\n",
      "hit_ratio@10 : 0.657\n",
      "ndcg@50    : 0.486\n",
      "hit_ratio@50 : 0.927\n"
     ]
    }
   ],
   "source": [
    "from graph_algs import P3alpha\n",
    "p3_alg = P3alpha()\n",
    "p3_alg.fit(train_loader.dataset.csr_matrix)\n",
    "\n",
    "evaluate_recommender_algorithm(p3_alg,test_loader)"
   ]
  },
  {
   "cell_type": "markdown",
   "id": "3b086858-2a30-4dbc-8b9f-ccd4186b003f",
   "metadata": {},
   "source": [
    "# Alternating Least Square"
   ]
  },
  {
   "cell_type": "code",
   "execution_count": 9,
   "id": "71bbd105-03da-4fbc-8250-2fdb2904d0d2",
   "metadata": {},
   "outputs": [
    {
     "name": "stdout",
     "output_type": "stream",
     "text": [
      "Built RecommenderAlgorithm module\n",
      "Built AlternatingLeastSquare module \n",
      "- alpha: 1 \n",
      "- factors: 64 \n",
      "- regularization: 0.01 \n",
      "- n_iterations: 500 \n",
      "\n",
      "Starting Fitting\n"
     ]
    },
    {
     "data": {
      "application/vnd.jupyter.widget-view+json": {
       "model_id": "4049a322919e4e06b410eae33bea5e84",
       "version_major": 2,
       "version_minor": 0
      },
      "text/plain": [
       "  0%|          | 0/500 [00:00<?, ?it/s]"
      ]
     },
     "metadata": {},
     "output_type": "display_data"
    },
    {
     "name": "stdout",
     "output_type": "stream",
     "text": [
      "End Fitting\n",
      "ndcg@1     : 0.170\n",
      "hit_ratio@1 : 0.170\n",
      "ndcg@3     : 0.258\n",
      "hit_ratio@3 : 0.322\n",
      "ndcg@5     : 0.290\n",
      "hit_ratio@5 : 0.403\n",
      "ndcg@10    : 0.334\n",
      "hit_ratio@10 : 0.538\n",
      "ndcg@50    : 0.410\n",
      "hit_ratio@50 : 0.879\n"
     ]
    }
   ],
   "source": [
    "from mf_algs import AlternatingLeastSquare\n",
    "als_alg = AlternatingLeastSquare(1,64,1e-2,500)\n",
    "als_alg.fit(train_loader.dataset.csr_matrix,False)\n",
    "\n",
    "evaluate_recommender_algorithm(als_alg,test_loader)"
   ]
  },
  {
   "cell_type": "code",
   "execution_count": 3,
   "id": "92a8011b-9200-4d84-a5cf-7c4bb8fde04e",
   "metadata": {},
   "outputs": [
    {
     "name": "stdout",
     "output_type": "stream",
     "text": [
      "Built RecommenderAlgorithm module\n",
      "Built SGDBasedRecommenderAlgorithm module\n",
      "Built UIProtoMF model \n",
      "- n_users: 3555 \n",
      "- n_items: 77985 \n",
      "- latent_dimension: 32 \n",
      "- u_n_prototypes: 20 \n",
      "- i_n_prototypes: 20 \n",
      "- u_sim_proto_weight: 1.0 \n",
      "- u_sim_batch_weight: 1.0 \n",
      "- i_sim_proto_weight: 1.0 \n",
      "- i_sim_batch_weight: 1.0 \n",
      "\n",
      "Built Trainer module \n",
      "- n_epochs: 100 \n",
      "- rec_loss: RecBinaryCrossEntropy \n",
      "- device: cpu \n",
      "- optimizing_metric: hit_ratio@10 \n",
      "- max_patience: 10 \n",
      "- best_model_path: ../models/UIProtoMF_best_model.pth \n",
      "\n"
     ]
    }
   ],
   "source": [
    "from neural_alg import UProtoMF,IProtoMF,UIProtoMF\n",
    "from utilities.trainer import ExperimentConfig,Trainer\n",
    "\n",
    "\n",
    "ui_protomf = UIProtoMF(train_loader.dataset.n_users,train_loader.dataset.n_items,latent_dimension=32)\n",
    "conf = ExperimentConfig(lr=1e-4,device='cpu')\n",
    "trainer = Trainer(ui_protomf,train_loader,val_loader,conf)"
   ]
  },
  {
   "cell_type": "code",
   "execution_count": 4,
   "id": "608482e4-dfd3-4c2b-b043-ee1df7924ab0",
   "metadata": {},
   "outputs": [
    {
     "name": "stdout",
     "output_type": "stream",
     "text": [
      "Validation started\n",
      "Init - Avg Val Value 0.103 \n",
      "\n"
     ]
    },
    {
     "name": "stderr",
     "output_type": "stream",
     "text": [
      "  0%|                                                   | 0/100 [00:00<?, ?it/s]\n",
      "  0%|                                                 | 0/13598 [00:00<?, ?it/s]\u001b[A\n",
      "  0%|                                       | 1/13598 [00:00<3:19:43,  1.13it/s]\u001b[A\n",
      "  0%|                                       | 2/13598 [00:01<1:48:51,  2.08it/s]\u001b[A\n",
      "  0%|                                       | 3/13598 [00:01<1:21:29,  2.78it/s]\u001b[A\n",
      "  0%|                                       | 4/13598 [00:01<1:05:52,  3.44it/s]\u001b[A\n",
      "  0%|                                         | 6/13598 [00:01<43:59,  5.15it/s]\u001b[A\n",
      "  0%|                                         | 8/13598 [00:01<31:26,  7.20it/s]\u001b[A\n",
      "  0%|                                        | 10/13598 [00:01<25:47,  8.78it/s]\u001b[A\n",
      "  0%|                                        | 12/13598 [00:02<25:30,  8.88it/s]\u001b[A\n",
      "  0%|                                        | 14/13598 [00:02<22:35, 10.02it/s]\u001b[A\n",
      "  0%|                                        | 16/13598 [00:02<22:30, 10.06it/s]\u001b[A\n",
      "  0%|                                        | 18/13598 [00:02<21:38, 10.46it/s]\u001b[A\n",
      "  0%|                                        | 20/13598 [00:02<21:01, 10.76it/s]\u001b[A\n",
      "  0%|                                        | 22/13598 [00:03<20:30, 11.03it/s]\u001b[A\n",
      "  0%|                                        | 24/13598 [00:03<21:15, 10.64it/s]\u001b[A\n",
      "  0%|                                        | 26/13598 [00:03<20:11, 11.21it/s]\u001b[A\n",
      "  0%|                                        | 28/13598 [00:03<20:18, 11.14it/s]\u001b[A\n",
      "  0%|                                        | 30/13598 [00:03<20:06, 11.25it/s]\u001b[A\n",
      "  0%|                                        | 32/13598 [00:03<19:58, 11.32it/s]\u001b[A\n",
      "  0%|                                        | 34/13598 [00:04<19:07, 11.82it/s]\u001b[A\n",
      "  0%|                                        | 36/13598 [00:04<20:35, 10.98it/s]\u001b[A\n",
      "  0%|                                        | 38/13598 [00:04<21:12, 10.66it/s]\u001b[A\n",
      "  0%|                                        | 40/13598 [00:04<21:08, 10.69it/s]\u001b[A\n",
      "  0%|                                        | 42/13598 [00:04<21:55, 10.31it/s]\u001b[A\n",
      "  0%|▏                                       | 44/13598 [00:05<23:28,  9.62it/s]\u001b[A\n",
      "  0%|▏                                       | 46/13598 [00:05<22:11, 10.18it/s]\u001b[A\n",
      "  0%|▏                                       | 48/13598 [00:05<24:16,  9.30it/s]\u001b[A\n",
      "  0%|▏                                       | 49/13598 [00:05<24:02,  9.39it/s]\u001b[A\n",
      "  0%|▏                                       | 51/13598 [00:05<23:05,  9.78it/s]\u001b[A\n",
      "  0%|▏                                       | 53/13598 [00:06<21:33, 10.47it/s]\u001b[A\n",
      "  0%|▏                                       | 56/13598 [00:06<26:01,  8.67it/s]\u001b[A\n",
      "  0%|                                                   | 0/100 [00:06<?, ?it/s]\n"
     ]
    },
    {
     "ename": "KeyboardInterrupt",
     "evalue": "",
     "output_type": "error",
     "traceback": [
      "\u001b[0;31m---------------------------------------------------------------------------\u001b[0m",
      "\u001b[0;31mKeyboardInterrupt\u001b[0m                         Traceback (most recent call last)",
      "\u001b[0;32m/tmp/ipykernel_22849/498936609.py\u001b[0m in \u001b[0;36m<module>\u001b[0;34m\u001b[0m\n\u001b[0;32m----> 1\u001b[0;31m \u001b[0mtrainer\u001b[0m\u001b[0;34m.\u001b[0m\u001b[0mfit\u001b[0m\u001b[0;34m(\u001b[0m\u001b[0;34m)\u001b[0m\u001b[0;34m\u001b[0m\u001b[0;34m\u001b[0m\u001b[0m\n\u001b[0m",
      "\u001b[0;32m~/PycharmProjects/recappr/utilities/trainer.py\u001b[0m in \u001b[0;36mfit\u001b[0;34m(self)\u001b[0m\n\u001b[1;32m    122\u001b[0m                 \u001b[0mloss\u001b[0m\u001b[0;34m.\u001b[0m\u001b[0mbackward\u001b[0m\u001b[0;34m(\u001b[0m\u001b[0;34m)\u001b[0m\u001b[0;34m\u001b[0m\u001b[0;34m\u001b[0m\u001b[0m\n\u001b[1;32m    123\u001b[0m                 \u001b[0mself\u001b[0m\u001b[0;34m.\u001b[0m\u001b[0moptimizer\u001b[0m\u001b[0;34m.\u001b[0m\u001b[0mstep\u001b[0m\u001b[0;34m(\u001b[0m\u001b[0;34m)\u001b[0m\u001b[0;34m\u001b[0m\u001b[0;34m\u001b[0m\u001b[0m\n\u001b[0;32m--> 124\u001b[0;31m                 \u001b[0mself\u001b[0m\u001b[0;34m.\u001b[0m\u001b[0moptimizer\u001b[0m\u001b[0;34m.\u001b[0m\u001b[0mzero_grad\u001b[0m\u001b[0;34m(\u001b[0m\u001b[0;34m)\u001b[0m\u001b[0;34m\u001b[0m\u001b[0;34m\u001b[0m\u001b[0m\n\u001b[0m\u001b[1;32m    125\u001b[0m \u001b[0;34m\u001b[0m\u001b[0m\n\u001b[1;32m    126\u001b[0m             \u001b[0mepoch_train_loss\u001b[0m \u001b[0;34m/=\u001b[0m \u001b[0mlen\u001b[0m\u001b[0;34m(\u001b[0m\u001b[0mself\u001b[0m\u001b[0;34m.\u001b[0m\u001b[0mtrain_loader\u001b[0m\u001b[0;34m)\u001b[0m\u001b[0;34m\u001b[0m\u001b[0;34m\u001b[0m\u001b[0m\n",
      "\u001b[0;32m~/anaconda3/envs/recappr/lib/python3.9/site-packages/torch/optim/optimizer.py\u001b[0m in \u001b[0;36mzero_grad\u001b[0;34m(self, set_to_none)\u001b[0m\n\u001b[1;32m    215\u001b[0m                             \u001b[0;32melse\u001b[0m\u001b[0;34m:\u001b[0m\u001b[0;34m\u001b[0m\u001b[0;34m\u001b[0m\u001b[0m\n\u001b[1;32m    216\u001b[0m                                 \u001b[0mp\u001b[0m\u001b[0;34m.\u001b[0m\u001b[0mgrad\u001b[0m\u001b[0;34m.\u001b[0m\u001b[0mrequires_grad_\u001b[0m\u001b[0;34m(\u001b[0m\u001b[0;32mFalse\u001b[0m\u001b[0;34m)\u001b[0m\u001b[0;34m\u001b[0m\u001b[0;34m\u001b[0m\u001b[0m\n\u001b[0;32m--> 217\u001b[0;31m                             \u001b[0mp\u001b[0m\u001b[0;34m.\u001b[0m\u001b[0mgrad\u001b[0m\u001b[0;34m.\u001b[0m\u001b[0mzero_\u001b[0m\u001b[0;34m(\u001b[0m\u001b[0;34m)\u001b[0m\u001b[0;34m\u001b[0m\u001b[0;34m\u001b[0m\u001b[0m\n\u001b[0m\u001b[1;32m    218\u001b[0m \u001b[0;34m\u001b[0m\u001b[0m\n\u001b[1;32m    219\u001b[0m     \u001b[0;32mdef\u001b[0m \u001b[0mstep\u001b[0m\u001b[0;34m(\u001b[0m\u001b[0mself\u001b[0m\u001b[0;34m,\u001b[0m \u001b[0mclosure\u001b[0m\u001b[0;34m)\u001b[0m\u001b[0;34m:\u001b[0m\u001b[0;34m\u001b[0m\u001b[0;34m\u001b[0m\u001b[0m\n",
      "\u001b[0;31mKeyboardInterrupt\u001b[0m: "
     ]
    }
   ],
   "source": [
    "trainer.fit()"
   ]
  },
  {
   "cell_type": "code",
   "execution_count": null,
   "id": "25d52117-f67c-43d1-b59c-d5e881822238",
   "metadata": {},
   "outputs": [],
   "source": []
  }
 ],
 "metadata": {
  "kernelspec": {
   "display_name": "Python 3 (ipykernel)",
   "language": "python",
   "name": "python3"
  },
  "language_info": {
   "codemirror_mode": {
    "name": "ipython",
    "version": 3
   },
   "file_extension": ".py",
   "mimetype": "text/x-python",
   "name": "python",
   "nbconvert_exporter": "python",
   "pygments_lexer": "ipython3",
   "version": "3.9.7"
  }
 },
 "nbformat": 4,
 "nbformat_minor": 5
}
